{
  "nbformat": 4,
  "nbformat_minor": 0,
  "metadata": {
    "colab": {
      "name": "Reconhecendo Números usando Redes Neurais - dataset MNIST.ipynb",
      "version": "0.3.2",
      "provenance": [],
      "collapsed_sections": []
    },
    "kernelspec": {
      "name": "python3",
      "display_name": "Python 3"
    }
  },
  "cells": [
    {
      "metadata": {
        "id": "MPvTZ999PWdr",
        "colab_type": "text"
      },
      "cell_type": "markdown",
      "source": [
        "![link text](https://i.imgur.com/v5VlmcB.png)\n",
        "* Neste documento será apresentado uma Rede Neural que irá prever um número em uma imagem usando o dataset MNIST\n",
        "* Os valores definidos para algumas variáveis podem não ser os melhores, porém o objetivo é aprender o funcionamento básico e não o obter um ótimo desempenho\n",
        "\n",
        "            \n",
        "\n",
        "\n",
        "\n"
      ]
    },
    {
      "metadata": {
        "id": "KfgE8_HFazS5",
        "colab_type": "text"
      },
      "cell_type": "markdown",
      "source": [
        "\n",
        "##Requesitos:\n",
        "* Conceitos básicos:\n",
        "  * listas\n",
        "  * matrizes\n",
        "  * lista de matrizes\n",
        "\n",
        "* Instalar nesta ordem:\n",
        "  * Pip3 -> sudo apt-get -y install python3-pip\n",
        "  * NumPy -> sudo pip3 install numpy\n",
        "  * TensorFlow -> sudo pip3 install tensorflow\n",
        "  * Keras -> sudo pip3 install keras\n",
        "  * OpenCV -> sudo pip3 install opencv-python"
      ]
    },
    {
      "metadata": {
        "id": "9AGpRul_bEeW",
        "colab_type": "text"
      },
      "cell_type": "markdown",
      "source": [
        "##A primeira coisa para fazer é a importação das bibliotecas utilizadas"
      ]
    },
    {
      "metadata": {
        "id": "BgII7x9xbT4D",
        "colab_type": "code",
        "colab": {}
      },
      "cell_type": "code",
      "source": [
        "import cv2                               # OpenCV\n",
        "import numpy as np                       # NumPy\n",
        "\n",
        "from keras.datasets import mnist         # Importando o dataset usado no treino\n",
        "from keras.models import Sequential      # Modelo de rede neural\n",
        "from keras.layers import Dense           # Layer do tipo densamente conectado\n",
        "from keras.utils import np_utils         # Usaremos dela o metodo 'to_categorical()'"
      ],
      "execution_count": 0,
      "outputs": []
    },
    {
      "metadata": {
        "id": "0EaAcFM2cVTE",
        "colab_type": "text"
      },
      "cell_type": "markdown",
      "source": [
        "##Carregar o Dataset MNIST\n",
        "* Este dataset possui imagens em escala de cinza, vulgo preto e branco, com dimensão 28x28\n",
        "*  Assim temos 60.000 imagens para treino (**x_train**) e outras 10.000 para testar (**x_test**) a performance do treino\n",
        "* Além de possuir imagens, ele também possui  **y_train** e **y_test** que são uma lista de valores de 0-9 indicando a resposta para rede neural de cada imagem\n",
        "* Caso a primeira imagem  de **x_train** seja o número 5, a lista **y_train** terá como seu primeiro valor o número do tipo inteiro 5"
      ]
    },
    {
      "metadata": {
        "id": "LxmvSH4Odda7",
        "colab_type": "code",
        "colab": {}
      },
      "cell_type": "code",
      "source": [
        "(x_train, y_train), (x_test, y_test) = mnist.load_data()"
      ],
      "execution_count": 0,
      "outputs": []
    },
    {
      "metadata": {
        "id": "pZEyxwn5eejk",
        "colab_type": "text"
      },
      "cell_type": "markdown",
      "source": [
        "## Redimensionando as imagens do dataset\n",
        "* As imagens do dataset estão em forma de lista de matrizes\n",
        "* A variável **x_train** é uma lista com 60.000 matrizes\n",
        "* Cada matriz representa a imagem de um número \n",
        "* Como as imagens possuem dimensão 28x28, as matrizes tem dimensão igual.\n",
        "* Os valores que estão dentro das matrizes são os pixels de uma imagem\n",
        "* Estes valores vão de 0-255, onde 0 = branco e 255 = preto\n",
        "\n",
        "## Aplicando o método reshape()\n",
        "* A dimensão de **x_train** é (60000, 28, 28), ou seja, uma lista de matrizes\n",
        "* Não podemos usá-lo desta maneira na nossa rede neural, pois ela requisita uma matriz e não uma lista de matrizes\n",
        "* A matriz que será criada terá uma imagem em cada linha\n",
        "* Como as imagens tem resolução de 28x28, esta matriz terá 784 colunas\n",
        "* Portanto a matriz possuirá 60.000 linhas e 784 colunas, uma baita matriz!\n",
        "* Então, para transformar esta lista de matrizes em uma matriz usamos o método **reshape()**\n",
        "* Este método será aplicado tanto em **x_train** quanto em **x_test**\n"
      ]
    },
    {
      "metadata": {
        "id": "Ge2c0xwjk273",
        "colab_type": "code",
        "colab": {}
      },
      "cell_type": "code",
      "source": [
        "x_train = x_train.reshape(60000, 784)             # reshape(linhas, colunas)\n",
        "x_test = x_test.reshape(10000, 784)"
      ],
      "execution_count": 0,
      "outputs": []
    },
    {
      "metadata": {
        "id": "gVH8B9PWqMjr",
        "colab_type": "text"
      },
      "cell_type": "markdown",
      "source": [
        "## Aplicando normalização\n",
        "* Para o melhor funcionamento será feito a normalização dos pixels das imagens, mudando o intervalo dos valores dos pixels\n",
        "* A matriz precisa ter valores no intervalo de 0-1 cujos valores são float e não inteiros como antes\n",
        "* Como estas imagens são de 8 bits, o maior valor encontrado na matriz é 255\n",
        "* Então aquele pixel que tem o valor de 255 valerá agora 1.0, o pixel de valor 0 valerá 0.0, o valor 128 valerá 0.5 e assim por diante"
      ]
    },
    {
      "metadata": {
        "id": "31j_hdq5uf9A",
        "colab_type": "code",
        "colab": {}
      },
      "cell_type": "code",
      "source": [
        "x_train = x_train/255.0    \n",
        "x_test = x_test/255.0"
      ],
      "execution_count": 0,
      "outputs": []
    },
    {
      "metadata": {
        "id": "hyPcZLZkvEdD",
        "colab_type": "text"
      },
      "cell_type": "markdown",
      "source": [
        "## Transformando listas em matrizes binárias\n",
        "* As variáveis de respostas **y_train** e **y_test** são listas, logo não podemos utiliza-lás desta maneira na rede devido a função de perda que será utilizada logo mais na etapa de compilação, sendo preciso transformá-las em matrizes binárias\n",
        "* Uma matriz binária é constituida de zeros e uns, valores do tipo inteiro\n",
        "* A quantidade de colunas desta matriz vai depender da quantidade de valores diferentes do dataset\n",
        "* No nosso caso, temos imagens com valores de 0-9 no dataset (0,1,2,3,4,5,6,7,8,9), ou seja, a matriz terá 10 colunas, uma para cada número\n",
        "* O número de linhas da matriz que será criada será igual ao tamanho da lista\n",
        "* A lista **y_train** possui 60.000 valores inteiros e depois de feita a alteração, nossa matriz terá também 60.000 linhas\n",
        "* Na matriz binária o valor 1 aparecerá apenas uma vez por linha, o restante dos valores será zero\n",
        "* Para fazer esse esquema de conversão usaremos o método **to_categorical()** da **np_utils**"
      ]
    },
    {
      "metadata": {
        "id": "DLBrrc3F0RgQ",
        "colab_type": "code",
        "colab": {}
      },
      "cell_type": "code",
      "source": [
        "y_train = np_utils.to_categorical(y_train)        # Transformando lista em matriz\n",
        "y_test =np_utils.to_categorical(y_test)"
      ],
      "execution_count": 0,
      "outputs": []
    },
    {
      "metadata": {
        "id": "K6R2zIla6VBx",
        "colab_type": "text"
      },
      "cell_type": "markdown",
      "source": [
        "## Estrutura da Rede Neural\n",
        "* O modelo escolhido é o **Sequential** por ser mais simples de entender\n",
        "* Como o nome sugere, ele é usando para que a rede seja feita em camadas como a imagem abaixo\n",
        "![link text](https://www.samyzaf.com/ML/pima/nn6.png)\n",
        "* **Input Layer** são as estradas, no nosso caso são 784 entradas\n",
        "* **Hidden Layer 1, 2** e **3** são camadas densamente conectadas, cada uma se conecta em todas as outras. Nossa rede terá apenas uma camada destas\n",
        "* **Output Layer** é a saida, a resposta da rede, no nosso caso são 10 saídas, uma para cada número"
      ]
    },
    {
      "metadata": {
        "id": "qhWahtGoO6K9",
        "colab_type": "text"
      },
      "cell_type": "markdown",
      "source": [
        "## Criando a estrutura da Rede Neural\n",
        "* Redes Neurais necessitam de uma **função de ativação** para terem um desempenho maior. \n",
        "* Elas são capazes de aplicarem modificações nos neuronios da nossa rede, dando importância maior para alguns e menor para outros\n",
        "* Na camada densa utilizaremos a ativação do tipo **relu** por ela ser uma função mais simples o que acarreta num treinamento mais rápido\n",
        "* Na camada de saída usamos a ativação do tipo **softmax** por ela ser bastante usada na classificação de classes como é o caso deste tutorial. Ela entrega como resultado uma probabilidade onde o valor mais alto é o resultado da rede"
      ]
    },
    {
      "metadata": {
        "id": "ED3e_hS1JDVq",
        "colab_type": "code",
        "colab": {}
      },
      "cell_type": "code",
      "source": [
        "model = Sequential() \n",
        "\n",
        "# Camada Oculta\n",
        "model.add(Dense(256, input_dim=784, activation='relu'))       # Adicionando a camada densa. Dense(qtde_de_neurônios, input_dim = qtde_de_entradas, Activation='tipo_de_ativação')\n",
        "# 784 = qtde_pixel\n",
        "# 512 = valor arbitrário, altere por valores de potência de 2 (2, 4, 8, 16, 32, 64...)\n",
        "\n",
        "# Camada de Saída\n",
        "model.add(Dense(10, activation='softmax'))                    # Adicionando a camada de saída Dense(qtde_de_neuronios, activation='tipo_de_ativação')\n",
        "# 10 = qtde_classes\n"
      ],
      "execution_count": 0,
      "outputs": []
    },
    {
      "metadata": {
        "id": "wEr_2wv1aqGO",
        "colab_type": "text"
      },
      "cell_type": "markdown",
      "source": [
        "## Compilando o modelo\n",
        "* Vamos configurar o processo de aprendizagem\n",
        "    * Otimizador: Para cada tipo de problema existe um otimizador que obtem melhores resultados. Para o nosso caso usaremos o **sgd** (Stochastic gradient descent)\n",
        "    * Função de Perda: Dependendo da saída que queremos na rede neural iremos alterá-lo. Para o nosso caso usaremos o **categorical_crossentropy**\n",
        "    * Lista de métricas: Usada para mostrar o desempenho do nosso modelo. Usaremos **acc** (accuracy)"
      ]
    },
    {
      "metadata": {
        "id": "C9wBnCZBNUz1",
        "colab_type": "code",
        "colab": {}
      },
      "cell_type": "code",
      "source": [
        "model.compile(optimizer='sgd', loss='categorical_crossentropy', metrics=['acc'])"
      ],
      "execution_count": 0,
      "outputs": []
    },
    {
      "metadata": {
        "id": "gXrv5BjFatHk",
        "colab_type": "text"
      },
      "cell_type": "markdown",
      "source": [
        "## Treinando a Rede Neural\n",
        "* Passamos os dados de entrada, as imagens para a rede, **x_train**, passamos também a resposta destes dados **y_train** e também a quatidade de épocas que se deseja treinar sua rede\n",
        "* Alterando a quantidades de épocas pode-se aumentar a precisão da rede, mas se o valor for muito grande poderá causar **overfitting**"
      ]
    },
    {
      "metadata": {
        "id": "8rXXR1y-al0R",
        "colab_type": "code",
        "outputId": "00358502-f9ff-4609-b61b-829abdaa2a64",
        "colab": {
          "base_uri": "https://localhost:8080/",
          "height": 269
        }
      },
      "cell_type": "code",
      "source": [
        "model.fit(x_train, y_train, epochs=7)"
      ],
      "execution_count": 0,
      "outputs": [
        {
          "output_type": "stream",
          "text": [
            "Epoch 1/7\n",
            "60000/60000 [==============================] - 6s 95us/step - loss: 0.6243 - acc: 0.8470\n",
            "Epoch 2/7\n",
            "60000/60000 [==============================] - 5s 84us/step - loss: 0.3280 - acc: 0.9093\n",
            "Epoch 3/7\n",
            "60000/60000 [==============================] - 5s 81us/step - loss: 0.2788 - acc: 0.9220\n",
            "Epoch 4/7\n",
            "60000/60000 [==============================] - 5s 78us/step - loss: 0.2481 - acc: 0.9314\n",
            "Epoch 5/7\n",
            "60000/60000 [==============================] - 5s 76us/step - loss: 0.2251 - acc: 0.9381\n",
            "Epoch 6/7\n",
            "60000/60000 [==============================] - 5s 78us/step - loss: 0.2064 - acc: 0.9424\n",
            "Epoch 7/7\n",
            "60000/60000 [==============================] - 5s 81us/step - loss: 0.1911 - acc: 0.9474\n"
          ],
          "name": "stdout"
        },
        {
          "output_type": "execute_result",
          "data": {
            "text/plain": [
              "<keras.callbacks.History at 0x7f6f153c1d68>"
            ]
          },
          "metadata": {
            "tags": []
          },
          "execution_count": 28
        }
      ]
    },
    {
      "metadata": {
        "id": "gdkyU2Qraxcb",
        "colab_type": "text"
      },
      "cell_type": "markdown",
      "source": [
        "## Comprovando a qualidade do treino\n",
        "* Se o valor de accuracy for muito menor do que o valor gerado pelo treino significa que você causou overfiting na sua rede, ou seja, treinou-lá demais"
      ]
    },
    {
      "metadata": {
        "id": "oDVCuBN6alw8",
        "colab_type": "code",
        "outputId": "f8ac990c-d5fb-4da9-c885-d3f13319384b",
        "colab": {
          "base_uri": "https://localhost:8080/",
          "height": 67
        }
      },
      "cell_type": "code",
      "source": [
        "evaluate = model.evaluate(x_test, y_test)\n",
        "\n",
        "print('\\nloss:{:3.2f}, accuracy:{:2.2f}'.format(evaluate[0], evaluate[1]))"
      ],
      "execution_count": 0,
      "outputs": [
        {
          "output_type": "stream",
          "text": [
            "10000/10000 [==============================] - 0s 36us/step\n",
            "\n",
            "loss:0.18, accuracy:0.95\n"
          ],
          "name": "stdout"
        }
      ]
    },
    {
      "metadata": {
        "id": "qFWifThkC8Wh",
        "colab_type": "text"
      },
      "cell_type": "markdown",
      "source": [
        "## Prevendo o valor de uma imagem\n",
        "* Chegamos na parte que pra mim é a **cereja do bolo**.\n",
        "* Agora veremos se a rede está reconhecendo o valor de uma imagem que iremos passar\n",
        "* Podemos testa-lá utilizando uma imagem do dataset de testes **x_test** ou de uma imagem que temos no computador, que você possa desenhar num editor de imagem qualquer\n"
      ]
    },
    {
      "metadata": {
        "id": "CmnYmECga3u0",
        "colab_type": "text"
      },
      "cell_type": "markdown",
      "source": [
        "## Caso queira utilizar uma imagem do  computador\n",
        "* Estamos usando o OpenCV para trabalhar com imagem, ele reconhece vários tipos de extensões como **jpg** e **png**\n",
        "* Utilizamos ele para ler a imagem, que voce criará, **numero.jpg** do diretorio com **imread**\n",
        "* Redimensionamos a nossa imagem pra ela ficar do tamanho certo usando **resize**\n",
        "* Passamos ela de colorida(**RGB**) para escala de cinza(**GRAY**) com **cvtColor**, isso é necessário porque as imagens do dataset estão em escala de cinza\n",
        "* A imagem deve ficar no mesmo diretorio deste algoritmo python, assim no método **imread** basta colocar o nome da foto\n",
        "* Depois vamos transforma-lá em uma matriz de **1** linha por **784** colunas, porque a função de predição requesita, usando o método **reshape**\n",
        "* Finalmente aplicamos a normalização"
      ]
    },
    {
      "metadata": {
        "id": "alFO3ibyN0k2",
        "colab_type": "code",
        "outputId": "b82fd989-adf7-4a9f-cc72-202e62a62432",
        "colab": {
          "base_uri": "https://localhost:8080/",
          "height": 229
        }
      },
      "cell_type": "code",
      "source": [
        "img = cv2.imread('numero.png')\n",
        "img = cv2.resize(img, (28, 28))\n",
        "img = cv2.cvtColor(img, cv2.COLOR_BGR2GRAY)\n",
        "img = img.reshape(1, 28*28)\n",
        "img = img/255.0"
      ],
      "execution_count": 0,
      "outputs": [
        {
          "output_type": "error",
          "ename": "error",
          "evalue": "ignored",
          "traceback": [
            "\u001b[0;31m---------------------------------------------------------------------------\u001b[0m",
            "\u001b[0;31merror\u001b[0m                                     Traceback (most recent call last)",
            "\u001b[0;32m<ipython-input-34-068509b4028e>\u001b[0m in \u001b[0;36m<module>\u001b[0;34m()\u001b[0m\n\u001b[1;32m      1\u001b[0m \u001b[0mimg\u001b[0m \u001b[0;34m=\u001b[0m \u001b[0mcv2\u001b[0m\u001b[0;34m.\u001b[0m\u001b[0mimread\u001b[0m\u001b[0;34m(\u001b[0m\u001b[0;34m'numero.png'\u001b[0m\u001b[0;34m)\u001b[0m\u001b[0;34m\u001b[0m\u001b[0;34m\u001b[0m\u001b[0m\n\u001b[0;32m----> 2\u001b[0;31m \u001b[0mimg\u001b[0m \u001b[0;34m=\u001b[0m \u001b[0mcv2\u001b[0m\u001b[0;34m.\u001b[0m\u001b[0mresize\u001b[0m\u001b[0;34m(\u001b[0m\u001b[0mimg\u001b[0m\u001b[0;34m,\u001b[0m \u001b[0;34m(\u001b[0m\u001b[0;36m28\u001b[0m\u001b[0;34m,\u001b[0m \u001b[0;36m28\u001b[0m\u001b[0;34m)\u001b[0m\u001b[0;34m)\u001b[0m\u001b[0;34m\u001b[0m\u001b[0;34m\u001b[0m\u001b[0m\n\u001b[0m\u001b[1;32m      3\u001b[0m \u001b[0mimg\u001b[0m \u001b[0;34m=\u001b[0m \u001b[0mcv2\u001b[0m\u001b[0;34m.\u001b[0m\u001b[0mcvtColor\u001b[0m\u001b[0;34m(\u001b[0m\u001b[0mimg\u001b[0m\u001b[0;34m,\u001b[0m \u001b[0mcv2\u001b[0m\u001b[0;34m.\u001b[0m\u001b[0mCOLOR_BGR2GRAY\u001b[0m\u001b[0;34m)\u001b[0m\u001b[0;34m\u001b[0m\u001b[0;34m\u001b[0m\u001b[0m\n\u001b[1;32m      4\u001b[0m \u001b[0mimg\u001b[0m \u001b[0;34m=\u001b[0m \u001b[0mimg\u001b[0m\u001b[0;34m.\u001b[0m\u001b[0mreshape\u001b[0m\u001b[0;34m(\u001b[0m\u001b[0;36m1\u001b[0m\u001b[0;34m,\u001b[0m \u001b[0;36m28\u001b[0m\u001b[0;34m*\u001b[0m\u001b[0;36m28\u001b[0m\u001b[0;34m)\u001b[0m\u001b[0;34m\u001b[0m\u001b[0;34m\u001b[0m\u001b[0m\n\u001b[1;32m      5\u001b[0m \u001b[0mimg\u001b[0m \u001b[0;34m=\u001b[0m \u001b[0mimg\u001b[0m\u001b[0;34m/\u001b[0m\u001b[0;36m255.0\u001b[0m\u001b[0;34m\u001b[0m\u001b[0;34m\u001b[0m\u001b[0m\n",
            "\u001b[0;31merror\u001b[0m: OpenCV(3.4.3) /io/opencv/modules/imgproc/src/resize.cpp:4044: error: (-215:Assertion failed) !ssize.empty() in function 'resize'\n"
          ]
        }
      ]
    },
    {
      "metadata": {
        "id": "vOB7wOq5mWeQ",
        "colab_type": "text"
      },
      "cell_type": "markdown",
      "source": [
        "## Caso queira utilizar uma imagem do dataset de teste\n",
        "* **x_test[0]** é a primeira imagem do dataset de testes\n",
        "* Precisamos transformar a imagem em uma matriz de **1** linha por **784** colunas \n",
        "* Para isso usamos o método **reshape**, \n",
        "* Não precisamos normaliza-lá porque já fizemos isto lá no inicio do código\n"
      ]
    },
    {
      "metadata": {
        "colab_type": "code",
        "id": "IJEEROPZnN_s",
        "colab": {}
      },
      "cell_type": "code",
      "source": [
        "img = x_test[0].reshape(1, 28*28)"
      ],
      "execution_count": 0,
      "outputs": []
    },
    {
      "metadata": {
        "id": "sFyDED_7dpVG",
        "colab_type": "text"
      },
      "cell_type": "markdown",
      "source": [
        "## Finalmente\n",
        "* Descobriremos agora se a rede neural está reconhecendo números\n",
        "* A variável **resultado** irá receber do método **predict** uma matriz de probabilidades\n",
        "* O valor mais alto desta matriz é o resultado da rede neural\n",
        "* Para descobrir este valor mais alto usamos o método **argmax** que retorna o valor do índice da matriz onde se encontra a maior probabilidade da rede\n",
        "* Caso queira descobrir o valor desta probabilidade aplique o método **max** e multiplique por **100** para ficar mais compreensível"
      ]
    },
    {
      "metadata": {
        "id": "myDsw8lydpft",
        "colab_type": "code",
        "outputId": "52b7ff7e-3be1-4d38-8840-6ccd0999ca1c",
        "colab": {
          "base_uri": "https://localhost:8080/",
          "height": 50
        }
      },
      "cell_type": "code",
      "source": [
        "resultado = model.predict(img)\n",
        "\n",
        "print('Valor previsto: ',resultado.argmax())\n",
        "print('Precisão: {:4.2f}%'.format(resultado.max()* 100))"
      ],
      "execution_count": 0,
      "outputs": [
        {
          "output_type": "stream",
          "text": [
            "Valor previsto:  0\n",
            "Precisão: 99.27%\n"
          ],
          "name": "stdout"
        }
      ]
    },
    {
      "metadata": {
        "id": "0EIIHQKTw1QR",
        "colab_type": "text"
      },
      "cell_type": "markdown",
      "source": [
        "# Por hora é isto!\n",
        "* Recomendo você alterar os valores na criação da estrutura, coloque mais uma camada oculta, altere valores no método **compile** e **fit** e observe se a precisão aumentou. \n",
        "* É de extrema importancia fazer isto, pois assim você ficará mais interessado e irá adquirir um conhecimento maior sobre Redes Neurais. "
      ]
    },
    {
      "metadata": {
        "id": "MywQOjk-5qKN",
        "colab_type": "text"
      },
      "cell_type": "markdown",
      "source": [
        "##*Referências Bibliográficas*\n",
        "[Keras: The Python Deep Learning library](https://keras.io). Acessado em 23 de fevereiro de 2019"
      ]
    }
  ]
}